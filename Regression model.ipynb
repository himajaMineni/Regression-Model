{
 "cells": [
  {
   "cell_type": "code",
   "execution_count": 1,
   "metadata": {},
   "outputs": [],
   "source": [
    "#importing pandas and reading the csv file using pandas\n",
    "import pandas as pd\n",
    "Mosquito=pd.read_csv('C:/Users/himaj/Desktop/ML_CA02/datasets/Mosquito_test.csv')"
   ]
  },
  {
   "cell_type": "code",
   "execution_count": 2,
   "metadata": {},
   "outputs": [],
   "source": [
    "#importing libraries\n",
    "import numpy as np\n",
    "#importing the train_test_split to split the data into train set and test set\n",
    "from sklearn.model_selection import train_test_split\n",
    "#importing regression model to apply logistic regression\n",
    "from sklearn.linear_model import LogisticRegression\n",
    "# importing the metrics to check the accuracy\n",
    "from sklearn import metrics\n",
    "from sklearn.metrics import accuracy_score\n",
    "from sklearn.metrics import classification_report\n",
    "from sklearn.metrics import confusion_matrix\n",
    "from sklearn import tree\n",
    "# importing preprocessing library \n",
    "from sklearn import preprocessing"
   ]
  },
  {
   "cell_type": "code",
   "execution_count": 3,
   "metadata": {},
   "outputs": [
    {
     "data": {
      "text/html": [
       "<div>\n",
       "<style scoped>\n",
       "    .dataframe tbody tr th:only-of-type {\n",
       "        vertical-align: middle;\n",
       "    }\n",
       "\n",
       "    .dataframe tbody tr th {\n",
       "        vertical-align: top;\n",
       "    }\n",
       "\n",
       "    .dataframe thead th {\n",
       "        text-align: right;\n",
       "    }\n",
       "</style>\n",
       "<table border=\"1\" class=\"dataframe\">\n",
       "  <thead>\n",
       "    <tr style=\"text-align: right;\">\n",
       "      <th></th>\n",
       "      <th>SEASON YEAR</th>\n",
       "      <th>WEEK</th>\n",
       "      <th>TEST ID</th>\n",
       "      <th>BLOCK</th>\n",
       "      <th>TRAP</th>\n",
       "      <th>TRAP_TYPE</th>\n",
       "      <th>TEST DATE</th>\n",
       "      <th>NUMBER OF MOSQUITOES</th>\n",
       "      <th>RESULT</th>\n",
       "      <th>SPECIES</th>\n",
       "      <th>LATITUDE</th>\n",
       "      <th>LONGITUDE</th>\n",
       "      <th>LOCATION</th>\n",
       "    </tr>\n",
       "  </thead>\n",
       "  <tbody>\n",
       "    <tr>\n",
       "      <td>0</td>\n",
       "      <td>2014</td>\n",
       "      <td>39</td>\n",
       "      <td>40542</td>\n",
       "      <td>100XX W OHARE AIRPORT</td>\n",
       "      <td>T902</td>\n",
       "      <td>GRAVID</td>\n",
       "      <td>09/25/2014 12:09:00 AM</td>\n",
       "      <td>8</td>\n",
       "      <td>negative</td>\n",
       "      <td>CULEX PIPIENS/RESTUANS</td>\n",
       "      <td>NaN</td>\n",
       "      <td>NaN</td>\n",
       "      <td>NaN</td>\n",
       "    </tr>\n",
       "    <tr>\n",
       "      <td>1</td>\n",
       "      <td>2016</td>\n",
       "      <td>37</td>\n",
       "      <td>44219</td>\n",
       "      <td>100XX W OHARE AIRPORT</td>\n",
       "      <td>T902</td>\n",
       "      <td>GRAVID</td>\n",
       "      <td>09/15/2016 12:09:00 AM</td>\n",
       "      <td>39</td>\n",
       "      <td>negative</td>\n",
       "      <td>CULEX PIPIENS/RESTUANS</td>\n",
       "      <td>NaN</td>\n",
       "      <td>NaN</td>\n",
       "      <td>NaN</td>\n",
       "    </tr>\n",
       "    <tr>\n",
       "      <td>2</td>\n",
       "      <td>2017</td>\n",
       "      <td>33</td>\n",
       "      <td>45351</td>\n",
       "      <td>100XX W OHARE AIRPORT</td>\n",
       "      <td>T905</td>\n",
       "      <td>GRAVID</td>\n",
       "      <td>08/17/2017 12:08:00 AM</td>\n",
       "      <td>50</td>\n",
       "      <td>positive</td>\n",
       "      <td>CULEX PIPIENS/RESTUANS</td>\n",
       "      <td>NaN</td>\n",
       "      <td>NaN</td>\n",
       "      <td>NaN</td>\n",
       "    </tr>\n",
       "    <tr>\n",
       "      <td>3</td>\n",
       "      <td>2017</td>\n",
       "      <td>33</td>\n",
       "      <td>45345</td>\n",
       "      <td>100XX W OHARE AIRPORT</td>\n",
       "      <td>T900</td>\n",
       "      <td>GRAVID</td>\n",
       "      <td>08/17/2017 12:08:00 AM</td>\n",
       "      <td>17</td>\n",
       "      <td>positive</td>\n",
       "      <td>CULEX PIPIENS/RESTUANS</td>\n",
       "      <td>NaN</td>\n",
       "      <td>NaN</td>\n",
       "      <td>NaN</td>\n",
       "    </tr>\n",
       "    <tr>\n",
       "      <td>4</td>\n",
       "      <td>2016</td>\n",
       "      <td>37</td>\n",
       "      <td>44169</td>\n",
       "      <td>4XX W 127TH</td>\n",
       "      <td>T135</td>\n",
       "      <td>GRAVID</td>\n",
       "      <td>09/15/2016 12:09:00 AM</td>\n",
       "      <td>12</td>\n",
       "      <td>negative</td>\n",
       "      <td>CULEX PIPIENS/RESTUANS</td>\n",
       "      <td>NaN</td>\n",
       "      <td>NaN</td>\n",
       "      <td>NaN</td>\n",
       "    </tr>\n",
       "  </tbody>\n",
       "</table>\n",
       "</div>"
      ],
      "text/plain": [
       "   SEASON YEAR  WEEK  TEST ID                  BLOCK  TRAP TRAP_TYPE  \\\n",
       "0         2014    39    40542  100XX W OHARE AIRPORT  T902    GRAVID   \n",
       "1         2016    37    44219  100XX W OHARE AIRPORT  T902    GRAVID   \n",
       "2         2017    33    45351  100XX W OHARE AIRPORT  T905    GRAVID   \n",
       "3         2017    33    45345  100XX W OHARE AIRPORT  T900    GRAVID   \n",
       "4         2016    37    44169            4XX W 127TH  T135    GRAVID   \n",
       "\n",
       "                TEST DATE  NUMBER OF MOSQUITOES    RESULT  \\\n",
       "0  09/25/2014 12:09:00 AM                     8  negative   \n",
       "1  09/15/2016 12:09:00 AM                    39  negative   \n",
       "2  08/17/2017 12:08:00 AM                    50  positive   \n",
       "3  08/17/2017 12:08:00 AM                    17  positive   \n",
       "4  09/15/2016 12:09:00 AM                    12  negative   \n",
       "\n",
       "                  SPECIES  LATITUDE  LONGITUDE LOCATION  \n",
       "0  CULEX PIPIENS/RESTUANS       NaN        NaN      NaN  \n",
       "1  CULEX PIPIENS/RESTUANS       NaN        NaN      NaN  \n",
       "2  CULEX PIPIENS/RESTUANS       NaN        NaN      NaN  \n",
       "3  CULEX PIPIENS/RESTUANS       NaN        NaN      NaN  \n",
       "4  CULEX PIPIENS/RESTUANS       NaN        NaN      NaN  "
      ]
     },
     "execution_count": 3,
     "metadata": {},
     "output_type": "execute_result"
    }
   ],
   "source": [
    "#head command is used to display the first 10 rows of the dataset\n",
    "Mosquito.head(5)"
   ]
  },
  {
   "cell_type": "code",
   "execution_count": 4,
   "metadata": {},
   "outputs": [
    {
     "data": {
      "text/plain": [
       "(29489, 13)"
      ]
     },
     "execution_count": 4,
     "metadata": {},
     "output_type": "execute_result"
    }
   ],
   "source": [
    "#this is used to check the shape of the dataset, i.e it gives the number of cloumns and number of rows\n",
    "Mosquito.shape"
   ]
  },
  {
   "cell_type": "code",
   "execution_count": 5,
   "metadata": {},
   "outputs": [],
   "source": [
    "#removing the unnecessary columns\n",
    "Mosquito_test_new=Mosquito.drop(['LATITUDE','LONGITUDE','LOCATION'],axis=1)"
   ]
  },
  {
   "cell_type": "code",
   "execution_count": 6,
   "metadata": {},
   "outputs": [
    {
     "name": "stdout",
     "output_type": "stream",
     "text": [
      "SEASON YEAR             0\n",
      "WEEK                    0\n",
      "TEST ID                 0\n",
      "BLOCK                   0\n",
      "TRAP                    0\n",
      "TRAP_TYPE               0\n",
      "TEST DATE               0\n",
      "NUMBER OF MOSQUITOES    0\n",
      "RESULT                  0\n",
      "SPECIES                 0\n",
      "dtype: int64\n"
     ]
    }
   ],
   "source": [
    "#checking for null values\n",
    "print(Mosquito_test_new.isnull().sum())"
   ]
  },
  {
   "cell_type": "code",
   "execution_count": 7,
   "metadata": {},
   "outputs": [],
   "source": [
    "Mosquito_test_new.columns = ['SEASON_YEAR', 'WEEK', 'TEST_ID', 'BLOCK', 'TRAP', 'TRAP_TYPE',\n",
    "       'TEST_DATE', 'NUMBER_OF_MOSQUITOES', 'RESULT', 'SPECIES']"
   ]
  },
  {
   "cell_type": "code",
   "execution_count": 8,
   "metadata": {},
   "outputs": [
    {
     "data": {
      "text/html": [
       "<div>\n",
       "<style scoped>\n",
       "    .dataframe tbody tr th:only-of-type {\n",
       "        vertical-align: middle;\n",
       "    }\n",
       "\n",
       "    .dataframe tbody tr th {\n",
       "        vertical-align: top;\n",
       "    }\n",
       "\n",
       "    .dataframe thead th {\n",
       "        text-align: right;\n",
       "    }\n",
       "</style>\n",
       "<table border=\"1\" class=\"dataframe\">\n",
       "  <thead>\n",
       "    <tr style=\"text-align: right;\">\n",
       "      <th></th>\n",
       "      <th>SEASON_YEAR</th>\n",
       "      <th>WEEK</th>\n",
       "      <th>TEST_ID</th>\n",
       "      <th>BLOCK</th>\n",
       "      <th>TRAP</th>\n",
       "      <th>TRAP_TYPE</th>\n",
       "      <th>TEST_DATE</th>\n",
       "      <th>NUMBER_OF_MOSQUITOES</th>\n",
       "      <th>RESULT</th>\n",
       "      <th>SPECIES</th>\n",
       "    </tr>\n",
       "  </thead>\n",
       "  <tbody>\n",
       "    <tr>\n",
       "      <td>0</td>\n",
       "      <td>2014</td>\n",
       "      <td>39</td>\n",
       "      <td>40542</td>\n",
       "      <td>100XX W OHARE AIRPORT</td>\n",
       "      <td>T902</td>\n",
       "      <td>GRAVID</td>\n",
       "      <td>09/25/2014 12:09:00 AM</td>\n",
       "      <td>8</td>\n",
       "      <td>negative</td>\n",
       "      <td>CULEX PIPIENS/RESTUANS</td>\n",
       "    </tr>\n",
       "    <tr>\n",
       "      <td>1</td>\n",
       "      <td>2016</td>\n",
       "      <td>37</td>\n",
       "      <td>44219</td>\n",
       "      <td>100XX W OHARE AIRPORT</td>\n",
       "      <td>T902</td>\n",
       "      <td>GRAVID</td>\n",
       "      <td>09/15/2016 12:09:00 AM</td>\n",
       "      <td>39</td>\n",
       "      <td>negative</td>\n",
       "      <td>CULEX PIPIENS/RESTUANS</td>\n",
       "    </tr>\n",
       "    <tr>\n",
       "      <td>2</td>\n",
       "      <td>2017</td>\n",
       "      <td>33</td>\n",
       "      <td>45351</td>\n",
       "      <td>100XX W OHARE AIRPORT</td>\n",
       "      <td>T905</td>\n",
       "      <td>GRAVID</td>\n",
       "      <td>08/17/2017 12:08:00 AM</td>\n",
       "      <td>50</td>\n",
       "      <td>positive</td>\n",
       "      <td>CULEX PIPIENS/RESTUANS</td>\n",
       "    </tr>\n",
       "    <tr>\n",
       "      <td>3</td>\n",
       "      <td>2017</td>\n",
       "      <td>33</td>\n",
       "      <td>45345</td>\n",
       "      <td>100XX W OHARE AIRPORT</td>\n",
       "      <td>T900</td>\n",
       "      <td>GRAVID</td>\n",
       "      <td>08/17/2017 12:08:00 AM</td>\n",
       "      <td>17</td>\n",
       "      <td>positive</td>\n",
       "      <td>CULEX PIPIENS/RESTUANS</td>\n",
       "    </tr>\n",
       "    <tr>\n",
       "      <td>4</td>\n",
       "      <td>2016</td>\n",
       "      <td>37</td>\n",
       "      <td>44169</td>\n",
       "      <td>4XX W 127TH</td>\n",
       "      <td>T135</td>\n",
       "      <td>GRAVID</td>\n",
       "      <td>09/15/2016 12:09:00 AM</td>\n",
       "      <td>12</td>\n",
       "      <td>negative</td>\n",
       "      <td>CULEX PIPIENS/RESTUANS</td>\n",
       "    </tr>\n",
       "    <tr>\n",
       "      <td>5</td>\n",
       "      <td>2017</td>\n",
       "      <td>33</td>\n",
       "      <td>45348</td>\n",
       "      <td>100XX W OHARE</td>\n",
       "      <td>T904</td>\n",
       "      <td>GRAVID</td>\n",
       "      <td>08/17/2017 12:08:00 AM</td>\n",
       "      <td>43</td>\n",
       "      <td>positive</td>\n",
       "      <td>CULEX PIPIENS/RESTUANS</td>\n",
       "    </tr>\n",
       "  </tbody>\n",
       "</table>\n",
       "</div>"
      ],
      "text/plain": [
       "   SEASON_YEAR  WEEK  TEST_ID                  BLOCK  TRAP TRAP_TYPE  \\\n",
       "0         2014    39    40542  100XX W OHARE AIRPORT  T902    GRAVID   \n",
       "1         2016    37    44219  100XX W OHARE AIRPORT  T902    GRAVID   \n",
       "2         2017    33    45351  100XX W OHARE AIRPORT  T905    GRAVID   \n",
       "3         2017    33    45345  100XX W OHARE AIRPORT  T900    GRAVID   \n",
       "4         2016    37    44169            4XX W 127TH  T135    GRAVID   \n",
       "5         2017    33    45348          100XX W OHARE  T904    GRAVID   \n",
       "\n",
       "                TEST_DATE  NUMBER_OF_MOSQUITOES    RESULT  \\\n",
       "0  09/25/2014 12:09:00 AM                     8  negative   \n",
       "1  09/15/2016 12:09:00 AM                    39  negative   \n",
       "2  08/17/2017 12:08:00 AM                    50  positive   \n",
       "3  08/17/2017 12:08:00 AM                    17  positive   \n",
       "4  09/15/2016 12:09:00 AM                    12  negative   \n",
       "5  08/17/2017 12:08:00 AM                    43  positive   \n",
       "\n",
       "                  SPECIES  \n",
       "0  CULEX PIPIENS/RESTUANS  \n",
       "1  CULEX PIPIENS/RESTUANS  \n",
       "2  CULEX PIPIENS/RESTUANS  \n",
       "3  CULEX PIPIENS/RESTUANS  \n",
       "4  CULEX PIPIENS/RESTUANS  \n",
       "5  CULEX PIPIENS/RESTUANS  "
      ]
     },
     "execution_count": 8,
     "metadata": {},
     "output_type": "execute_result"
    }
   ],
   "source": [
    "Mosquito_test_new.head(6)"
   ]
  },
  {
   "cell_type": "code",
   "execution_count": 9,
   "metadata": {},
   "outputs": [],
   "source": [
    "#from sklearn import preprocessing\n",
    "#calling the labelencoder function \n",
    "number = preprocessing.LabelEncoder()\n",
    "Mosquito_test_new['BLOCK'] = number.fit_transform(Mosquito_test_new.BLOCK)\n",
    "Mosquito_test_new['TRAP'] = number.fit_transform(Mosquito_test_new.TRAP)\n",
    "Mosquito_test_new['TRAP_TYPE'] = number.fit_transform(Mosquito_test_new.TRAP_TYPE)\n",
    "Mosquito_test_new['RESULT'] = number.fit_transform(Mosquito_test_new.RESULT)\n",
    "\n",
    "Mosquito_test_new['SPECIES'] = number.fit_transform(Mosquito_test_new.SPECIES)"
   ]
  },
  {
   "cell_type": "code",
   "execution_count": 10,
   "metadata": {},
   "outputs": [],
   "source": [
    "### Feature selection for columns \n",
    "feature =['SEASON_YEAR', 'WEEK', 'TEST_ID', 'BLOCK', 'TRAP', 'TRAP_TYPE',\n",
    "        'NUMBER_OF_MOSQUITOES', 'SPECIES']\n",
    "target = ['RESULT']"
   ]
  },
  {
   "cell_type": "code",
   "execution_count": 11,
   "metadata": {},
   "outputs": [],
   "source": [
    "X = Mosquito_test_new[feature] # Features\n",
    "y = Mosquito_test_new[target] # Target variable"
   ]
  },
  {
   "cell_type": "code",
   "execution_count": 12,
   "metadata": {},
   "outputs": [],
   "source": [
    "## Function for spliting the dataset into 70 percent testing data and 30 percent training data \n",
    "x_train,x_test,y_train,y_test = train_test_split(X,y,test_size=0.3,random_state=1)\n"
   ]
  },
  {
   "cell_type": "code",
   "execution_count": 13,
   "metadata": {},
   "outputs": [],
   "source": [
    "# Create Decision Tree classifer object\n",
    "model = LogisticRegression()"
   ]
  },
  {
   "cell_type": "code",
   "execution_count": 14,
   "metadata": {},
   "outputs": [
    {
     "name": "stderr",
     "output_type": "stream",
     "text": [
      "C:\\Users\\himaj\\Anaconda3\\lib\\site-packages\\sklearn\\linear_model\\logistic.py:432: FutureWarning: Default solver will be changed to 'lbfgs' in 0.22. Specify a solver to silence this warning.\n",
      "  FutureWarning)\n",
      "C:\\Users\\himaj\\Anaconda3\\lib\\site-packages\\sklearn\\utils\\validation.py:724: DataConversionWarning: A column-vector y was passed when a 1d array was expected. Please change the shape of y to (n_samples, ), for example using ravel().\n",
      "  y = column_or_1d(y, warn=True)\n"
     ]
    }
   ],
   "source": [
    "# Train Decision Tree Classifer\n",
    "model = model.fit(x_train,y_train)"
   ]
  },
  {
   "cell_type": "code",
   "execution_count": 15,
   "metadata": {},
   "outputs": [],
   "source": [
    "#Predict the response for test dataset\n",
    "y_pred = model.predict(x_test)"
   ]
  },
  {
   "cell_type": "code",
   "execution_count": 16,
   "metadata": {},
   "outputs": [
    {
     "name": "stdout",
     "output_type": "stream",
     "text": [
      "Accuracy: 0.9125127161749745\n"
     ]
    }
   ],
   "source": [
    "# Model Accuracy, how often is the classifier correct?\n",
    "print(\"Accuracy:\",metrics.accuracy_score(y_test, y_pred))"
   ]
  },
  {
   "cell_type": "code",
   "execution_count": 17,
   "metadata": {},
   "outputs": [],
   "source": [
    "#confusion matrix to check the performance\n",
    "import matplotlib.pyplot as plt\n",
    "import seaborn as sns"
   ]
  },
  {
   "cell_type": "code",
   "execution_count": 18,
   "metadata": {},
   "outputs": [],
   "source": [
    "#finding the confusion matrix to check the performance\n",
    "cnsfn_matrix=metrics.confusion_matrix(y_test,y_pred)"
   ]
  },
  {
   "cell_type": "code",
   "execution_count": 19,
   "metadata": {},
   "outputs": [
    {
     "name": "stdout",
     "output_type": "stream",
     "text": [
      "[[8021   57]\n",
      " [ 717   52]]\n"
     ]
    }
   ],
   "source": [
    "print(cnsfn_matrix)"
   ]
  },
  {
   "cell_type": "code",
   "execution_count": 20,
   "metadata": {},
   "outputs": [
    {
     "data": {
      "text/plain": [
       "Text(0.5, 1, 'Accuracy Score')"
      ]
     },
     "execution_count": 20,
     "metadata": {},
     "output_type": "execute_result"
    },
    {
     "data": {
      "image/png": "[encoded data removed]",
      "text/plain": [
       "<Figure size 720x720 with 2 Axes>"
      ]
     },
     "metadata": {
      "needs_background": "light"
     },
     "output_type": "display_data"
    }
   ],
   "source": [
    "# heatmap to visualize the performance of the model\n",
    "plt.figure(figsize=(10,10))\n",
    "sns.heatmap(cnsfn_matrix,annot=True,fmt='g',linewidths=1,square=True)\n",
    "plt.xlabel('predicted')\n",
    "plt.ylabel('actual')\n",
    "all_sample_title='Accuracy Score'.format(accuracy_score)\n",
    "plt.title(all_sample_title,size=10)"
   ]
  },
  {
   "cell_type": "code",
   "execution_count": null,
   "metadata": {},
   "outputs": [],
   "source": []
  }
 ],
 "metadata": {
  "kernelspec": {
   "display_name": "Python 3",
   "language": "python",
   "name": "python3"
  },
  "language_info": {
   "codemirror_mode": {
    "name": "ipython",
    "version": 3
   },
   "file_extension": ".py",
   "mimetype": "text/x-python",
   "name": "python",
   "nbconvert_exporter": "python",
   "pygments_lexer": "ipython3",
   "version": "3.7.4"
  }
 },
 "nbformat": 4,
 "nbformat_minor": 2
}
